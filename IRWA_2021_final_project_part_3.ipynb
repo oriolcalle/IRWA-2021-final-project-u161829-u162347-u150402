{
  "nbformat": 4,
  "nbformat_minor": 0,
  "metadata": {
    "colab": {
      "name": "IRWA_2021_final_project_part_3_1.ipynb",
      "provenance": [],
      "collapsed_sections": []
    },
    "kernelspec": {
      "display_name": "Python 3",
      "language": "python",
      "name": "python3"
    },
    "language_info": {
      "codemirror_mode": {
        "name": "ipython",
        "version": 3
      },
      "file_extension": ".py",
      "mimetype": "text/x-python",
      "name": "python",
      "nbconvert_exporter": "python",
      "pygments_lexer": "ipython3",
      "version": "3.7.0"
    }
  },
  "cells": [
    {
      "cell_type": "code",
      "metadata": {
        "colab": {
          "base_uri": "https://localhost:8080/"
        },
        "id": "7b_eNUtN7JAG",
        "outputId": "74719978-fc69-4a11-926a-830fdc1fea32"
      },
      "source": [
        "!pip install pycountry"
      ],
      "execution_count": 2,
      "outputs": [
        {
          "output_type": "stream",
          "name": "stdout",
          "text": [
            "Collecting pycountry\n",
            "  Downloading pycountry-20.7.3.tar.gz (10.1 MB)\n",
            "\u001b[K     |████████████████████████████████| 10.1 MB 26.0 MB/s \n",
            "\u001b[?25hBuilding wheels for collected packages: pycountry\n",
            "  Building wheel for pycountry (setup.py) ... \u001b[?25l\u001b[?25hdone\n",
            "  Created wheel for pycountry: filename=pycountry-20.7.3-py2.py3-none-any.whl size=10746883 sha256=648e8c1111ab346848f83264c840284023ed116a1003f989a6b1886da194e470\n",
            "  Stored in directory: /root/.cache/pip/wheels/57/e8/3f/120ccc1ff7541c108bc5d656e2a14c39da0d824653b62284c6\n",
            "Successfully built pycountry\n",
            "Installing collected packages: pycountry\n",
            "Successfully installed pycountry-20.7.3\n"
          ]
        }
      ]
    },
    {
      "cell_type": "code",
      "metadata": {
        "id": "7pOXLU9yNDKJ"
      },
      "source": [
        "import nltk\n",
        "import json\n",
        "import pycountry\n",
        "import re\n",
        "import collections\n",
        "from numpy import linalg as la\n",
        "from nltk.stem import PorterStemmer\n",
        "from nltk.stem.snowball import SnowballStemmer\n",
        "import math\n",
        "import numpy as np\n",
        "from nltk.corpus import stopwords\n",
        "from gensim.models import Word2Vec \n",
        "from sklearn.manifold import TSNE\n",
        "import pandas as pd"
      ],
      "execution_count": 3,
      "outputs": []
    },
    {
      "cell_type": "code",
      "metadata": {
        "colab": {
          "base_uri": "https://localhost:8080/"
        },
        "id": "_JLoDAYC7O0r",
        "outputId": "0363e044-012a-4c8e-9a61-a37b73af5379"
      },
      "source": [
        "nltk.download('stopwords')"
      ],
      "execution_count": 4,
      "outputs": [
        {
          "output_type": "stream",
          "name": "stdout",
          "text": [
            "[nltk_data] Downloading package stopwords to /root/nltk_data...\n",
            "[nltk_data]   Unzipping corpora/stopwords.zip.\n"
          ]
        },
        {
          "output_type": "execute_result",
          "data": {
            "text/plain": [
              "True"
            ]
          },
          "metadata": {},
          "execution_count": 4
        }
      ]
    },
    {
      "cell_type": "code",
      "metadata": {
        "colab": {
          "base_uri": "https://localhost:8080/"
        },
        "id": "b-BCz2Jh7hWd",
        "outputId": "67174b15-376f-4bb6-d13f-8935e936bd58"
      },
      "source": [
        "%cd /content/drive/Shareddrives/Information retrieval/Project"
      ],
      "execution_count": 10,
      "outputs": [
        {
          "output_type": "stream",
          "name": "stdout",
          "text": [
            "/content/drive/Shareddrives/Information retrieval/Project\n"
          ]
        }
      ]
    },
    {
      "cell_type": "code",
      "metadata": {
        "colab": {
          "base_uri": "https://localhost:8080/"
        },
        "id": "j6mABYVh7jkF",
        "outputId": "b5dd9a90-bfde-44de-ccb4-67e56bd54d22"
      },
      "source": [
        "from google.colab import drive\n",
        "drive.mount('/content/drive')"
      ],
      "execution_count": 9,
      "outputs": [
        {
          "output_type": "stream",
          "name": "stdout",
          "text": [
            "Mounted at /content/drive\n"
          ]
        }
      ]
    },
    {
      "cell_type": "markdown",
      "metadata": {
        "id": "NP6qMuoINDKS"
      },
      "source": [
        "### Loading the dataset\n"
      ]
    },
    {
      "cell_type": "code",
      "metadata": {
        "id": "vWXWpDegNDKV"
      },
      "source": [
        "def load_tweets():\n",
        "    path = 'data/dataset_tweets_WHO.txt'\n",
        "    tweets = []\n",
        "    with open(path,\"r\",encoding='utf-8') as fp:\n",
        "        for line in fp:\n",
        "            tweet_ = json.loads(line)\n",
        "            for key in tweet_.keys():\n",
        "                tweet = []\n",
        "                tweet.append(key)\n",
        "                tweet.append(tweet_[key]['full_text'])\n",
        "                tweet.append(tweet_[key]['lang'])\n",
        "                tweets.append(tweet)\n",
        "    return tweets"
      ],
      "execution_count": 5,
      "outputs": []
    },
    {
      "cell_type": "code",
      "metadata": {
        "id": "VPBDsHtgNDKX"
      },
      "source": [
        "def remove_stopwords(string,language):\n",
        "    #we build the stopwords set depending on the language of the tweet.\n",
        "    stop_words = set(stopwords.words(language))         \n",
        "    return [word for word in string if word not in stop_words]\n",
        "\n",
        "\n",
        "def stemming(string,language):\n",
        "    porter_stemmer = PorterStemmer()\n",
        "    if language in SnowballStemmer.languages:\n",
        "        snowball_stemmer = SnowballStemmer(language)\n",
        "        return [snowball_stemmer.stem(word) for word in string]\n",
        "    else:\n",
        "        return [porter_stemmer.stem(word) for word in string]\n",
        "\n",
        "def clean(string,language='en'):\n",
        "\n",
        "    string = string.lower()\n",
        "    string = string.split() #tokenize\n",
        "    string = [re.sub(\"[^a-z0-9#@]\",\"\",word) for word in string] #we remove everything except words, numbers # and @.\n",
        "    string = [word for word in string if word != ''] # we delete the token that are empty.\n",
        "    \n",
        "    if len(language) == 2:\n",
        "            language = pycountry.languages.get(alpha_2=language).name.lower()\n",
        "    elif len(language) == 3:\n",
        "            language = pycountry.languages.get(alpha_3=language).name.lower()\n",
        "            \n",
        "    string = remove_stopwords(string,language)  #remove stopwords\n",
        "    string = stemming(string,language)   #stemming\n",
        "\n",
        "    return string"
      ],
      "execution_count": 6,
      "outputs": []
    },
    {
      "cell_type": "code",
      "metadata": {
        "id": "Qc1kN4SvNDKY",
        "scrolled": true
      },
      "source": [
        "tweets = load_tweets()\n",
        "\n",
        "filtered_tweets = []\n",
        "for tweet in tweets:\n",
        "    try:\n",
        "        filtered_tweets.append([tweet[0],clean(tweet[1],tweet[2]),tweet[2]])\n",
        "    except:\n",
        "        pass"
      ],
      "execution_count": 11,
      "outputs": []
    },
    {
      "cell_type": "markdown",
      "metadata": {
        "id": "L7Pift4INDKa"
      },
      "source": [
        "# Indexing\n"
      ]
    },
    {
      "cell_type": "code",
      "metadata": {
        "id": "zVOsYPBbNDKb"
      },
      "source": [
        "from collections import defaultdict\n",
        "from array import array"
      ],
      "execution_count": 12,
      "outputs": []
    },
    {
      "cell_type": "code",
      "metadata": {
        "id": "M2hOdiAJNDKc"
      },
      "source": [
        "def create_index(tweets):\n",
        "    index = defaultdict(list)\n",
        "    for tweet in tweets:  \n",
        "        tweet_id = int(tweet[0])\n",
        "        \n",
        "        ## ===============================================================        \n",
        "        ## create the index for the current page and store it in current_page_index (current_page_index)\n",
        "        ## current_page_index ==> { ‘term1’: [current_doc, [list of positions]], ...,‘term_n’: [current_doc, [list of positions]]}\n",
        "\n",
        "        ## Example: if the curr_doc has id 1 and his text is \n",
        "        ##\"web retrieval information retrieval\":\n",
        "\n",
        "        ## current_page_index ==> { ‘web’: [1, [0]], ‘retrieval’: [1, [1,4]], ‘information’: [1, [2]]}\n",
        "\n",
        "        ## the term ‘web’ appears in document 1 in positions 0, \n",
        "        ## the term ‘retrieval’ appears in document 1 in positions 1 and 4\n",
        "        ## ===============================================================\n",
        "\n",
        "        current_page_index = {}\n",
        "\n",
        "        for position, term in enumerate(tweet[1]): # terms contains page_title + page_text. Loop over all terms\n",
        "            try:\n",
        "                # if the term is already in the index for the current page (current_page_index)\n",
        "                # append the position to the corresponding list\n",
        "        ## START CODE\n",
        "                current_page_index[term][1].append(position)  \n",
        "            except:\n",
        "                # Add the new term as dict key and initialize the array of positions and add the position\n",
        "                current_page_index[term]=[tweet_id, array('I',[position])] #'I' indicates unsigned int (int in Python)\n",
        "            \n",
        "        #merge the current page index with the main index\n",
        "        for term_page, posting_page in current_page_index.items():\n",
        "            index[term_page].append(posting_page)\n",
        "                  \n",
        "                    \n",
        "    return index"
      ],
      "execution_count": 13,
      "outputs": []
    },
    {
      "cell_type": "code",
      "metadata": {
        "id": "46yvHSqBNDKe",
        "scrolled": false
      },
      "source": [
        "index_ = create_index(filtered_tweets)"
      ],
      "execution_count": 14,
      "outputs": []
    },
    {
      "cell_type": "code",
      "metadata": {
        "id": "iTEfg6A5NDKf"
      },
      "source": [
        "def get_document_information():\n",
        "    path = 'data/dataset_tweets_WHO.txt'\n",
        "    tweets = {}\n",
        "    with open(path,\"r\",encoding='utf-8') as fp:\n",
        "        for line in fp:\n",
        "            tweet_ = json.loads(line)\n",
        "            for key in tweet_.keys():\n",
        "                tweet = []\n",
        "                #tweet.append(key)\n",
        "                tweet.append(tweet_[key]['full_text'])\n",
        "                tweet.append(tweet_[key]['user']['name'])\n",
        "                tweet.append(tweet_[key]['created_at'])\n",
        "                hashtags = []\n",
        "                for x in tweet_[key]['entities']['hashtags']:\n",
        "                    hashtags.append(x['text'])\n",
        "                tweet.append(hashtags)\n",
        "                tweet.append(tweet_[key]['favorite_count'])\n",
        "                tweet.append(tweet_[key]['retweet_count'])\n",
        "                tweet.append(\"https://twitter.com/%s/status/%s\" % (tweet_[key]['user']['screen_name'], tweet_[key]['id_str']))\n",
        "                #tweets.append(tweet)\n",
        "                tweets[key] = tweet\n",
        "\n",
        "    return tweets"
      ],
      "execution_count": 15,
      "outputs": []
    },
    {
      "cell_type": "code",
      "metadata": {
        "id": "niLLz1i2NDKh"
      },
      "source": [
        "doc_info = get_document_information()\n",
        "num_documents = len(doc_info)"
      ],
      "execution_count": 16,
      "outputs": []
    },
    {
      "cell_type": "code",
      "metadata": {
        "id": "LREK6fGANDKj"
      },
      "source": [
        "def create_index_tfidf(tweets, num_documents):\n",
        "    \"\"\"\n",
        "    Implement the inverted index and compute tf, df and idf\n",
        "    \n",
        "    Argument:\n",
        "    lines -- collection of Wikipedia articles\n",
        "    num_documents -- total number of documents\n",
        "    \n",
        "    Returns:\n",
        "    index - the inverted index (implemented through a Python dictionary) containing terms as keys and the corresponding\n",
        "    list of document these keys appears in (and the positions) as values.\n",
        "    tf - normalized term frequency for each term in each document\n",
        "    df - number of documents each term appear in\n",
        "    idf - inverse document frequency of each term\n",
        "    \"\"\"\n",
        "    index = defaultdict(list)\n",
        "    tf = defaultdict(list)  #term frequencies of terms in documents (documents in the same order as in the main index)\n",
        "    df = defaultdict(int)  #document frequencies of terms in the corpus\n",
        "    idf = defaultdict(float)\n",
        "\n",
        "    for tweet in tweets:  \n",
        "        tweet_id = int(tweet[0])\n",
        "        \n",
        "        ## ===============================================================        \n",
        "        ## create the index for the **current page** and store it in current_page_index\n",
        "        ## current_page_index ==> { ‘term1’: [current_doc, [list of positions]], ...,‘term_n’: [current_doc, [list of positions]]}\n",
        "        ## ===============================================================\n",
        "\n",
        "        current_page_index = {}\n",
        "\n",
        "        for position, term in enumerate(tweet[1]):  ## terms contains page_title + page_text\n",
        "            try:\n",
        "                # if the term is already in the dict append the position to the corresponding list\n",
        "                current_page_index[term][1].append(position)\n",
        "            except:\n",
        "                # Add the new term as dict key and initialize the array of positions and add the position\n",
        "                current_page_index[term]=[tweet_id, array('I',[position])] #'I' indicates unsigned int (int in Python)\n",
        "\n",
        "        #normalize term frequencies\n",
        "        # Compute the denominator to normalize term frequencies (formula 2 above)\n",
        "        # norm is the same for all terms of a document.\n",
        "        norm = 0\n",
        "        for term, posting in current_page_index.items():\n",
        "            norm += len(posting) ** 2\n",
        "        norm = math.sqrt(norm)\n",
        "\n",
        "        #calculate the tf(dividing the term frequency by the above computed norm) and df weights\n",
        "        for term, posting in current_page_index.items():\n",
        "            # append the tf for current term (tf = term frequency in current doc/norm)\n",
        "            tf[term].append(np.round(len(posting)/norm,4)) ## SEE formula (1) above\n",
        "            #increment the document frequency of current term (number of documents containing the current term)\n",
        "            df[term] += 1  # increment DF for current term\n",
        "\n",
        "        #merge the current page index with the main index\n",
        "        for term_page, posting_page in current_page_index.items():\n",
        "            index[term_page].append(posting_page)\n",
        "\n",
        "        # Compute IDF following the formula (3) above. HINT: use np.log\n",
        "        for term in df:\n",
        "            idf[term] = np.round(np.log(float(num_documents/df[term])), 4)\n",
        "\n",
        "    return index, tf, df, idf\n"
      ],
      "execution_count": 17,
      "outputs": []
    },
    {
      "cell_type": "code",
      "metadata": {
        "id": "EFPbiMpnNDKj"
      },
      "source": [
        "index,tf,df,idf = create_index_tfidf(filtered_tweets,num_documents)"
      ],
      "execution_count": 18,
      "outputs": []
    },
    {
      "cell_type": "markdown",
      "metadata": {
        "id": "gNHsiY8YqgJj"
      },
      "source": [
        "# Ranking methods\n",
        "## 1a - TF-IDF + cosine_similarity"
      ]
    },
    {
      "cell_type": "code",
      "metadata": {
        "id": "_rKvoC_4qgJj"
      },
      "source": [
        "topK = 20"
      ],
      "execution_count": 19,
      "outputs": []
    },
    {
      "cell_type": "code",
      "metadata": {
        "id": "eZCuBGp_NDKk"
      },
      "source": [
        "def rank_tfidf(terms, docs, doc_info, index, idf, tf):\n",
        "    \"\"\"\n",
        "    Perform the ranking of the results of a search based on the tf-idf weights\n",
        "    \n",
        "    Argument:\n",
        "    terms -- list of query terms\n",
        "    docs -- list of documents, to rank, matching the query\n",
        "    index -- inverted index data structure\n",
        "    idf -- inverted document frequencies\n",
        "    tf -- term frequencies\n",
        "    title_index -- mapping between page id and page title\n",
        "    \n",
        "    Returns: scores of ranked documents\n",
        "    \"\"\"\n",
        "\n",
        "    # I'm interested only on the element of the docVector corresponding to the query terms \n",
        "    # The remaining elements would became 0 when multiplied to the query_vector\n",
        "    doc_vectors = defaultdict(lambda: [0] * len(terms)) # I call doc_vectors[k] for a nonexistent key k, the key-value pair (k,[0]*len(terms)) will be automatically added to the dictionary\n",
        "    query_vector = [0] * len(terms)\n",
        "\n",
        "    # compute the norm for the query tf\n",
        "    query_terms_count = collections.Counter(terms)  # get the frequency of each term in the query. \n",
        "\n",
        "    query_norm = la.norm(list(query_terms_count.values()))\n",
        "\n",
        "    for termIndex, term in enumerate(terms):  #termIndex is the index of the term in the query\n",
        "        if term not in index:\n",
        "            continue\n",
        "\n",
        "        ## Compute tf*idf(normalize TF as done with documents)\n",
        "        query_vector[termIndex]=query_terms_count[term]/query_norm * idf[term] \n",
        "\n",
        "        # Generate doc_vectors for matching docs\n",
        "        for doc_index, (doc, postings) in enumerate(index[term]):       \n",
        "            if doc in docs:\n",
        "                doc_vectors[doc][termIndex] = tf[term][doc_index] * idf[term] \n",
        "\n",
        "    # Calculate the score of each doc \n",
        "    # compute the cosine similarity between queyVector and each docVector\n",
        "    doc_scores=[[np.dot(curDocVec, query_vector), doc] for doc, curDocVec in doc_vectors.items() ]\n",
        "    \n",
        "    if len(doc_scores) == 0:\n",
        "        print(\"No results found, try again\")\n",
        "    return doc_scores"
      ],
      "execution_count": 20,
      "outputs": []
    },
    {
      "cell_type": "markdown",
      "metadata": {
        "id": "J2MxydKCqgJk"
      },
      "source": [
        "## 1b - Custom score + cosine similarity"
      ]
    },
    {
      "cell_type": "code",
      "metadata": {
        "id": "4qMXppsALQvM"
      },
      "source": [
        "def perform_date_substraction(tweet_date):\n",
        "  x = datetime.now()\n",
        "  tweet_datetime = datetime.strptime(tweet_date,'%a %b %d %H:%M:%S %z %Y')\n",
        "  t = x - tweet_datetime.replace(tzinfo=None) \n",
        "  return t.total_seconds()"
      ],
      "execution_count": 100,
      "outputs": []
    },
    {
      "cell_type": "code",
      "metadata": {
        "id": "kwsww45_qgJk"
      },
      "source": [
        "from datetime import datetime\n",
        "def rank_custom(terms, docs,doc_info, index, idf, tf):\n",
        "\n",
        "    #Query vector is the average of the two statistics\n",
        "    query_vector = [0.5, 0.5]\n",
        "    \n",
        "    #Cosine similarity with likes and retweets\n",
        "    custom_scores = [[np.dot(query_vector, doc_info[str(doc)][4:6]), doc] for doc in docs]\n",
        "    # Normalize custom scores\n",
        "    custom_array  = np.array(custom_scores)\n",
        "    sum_of_col = custom_array.sum(axis=0)[0]\n",
        "    normalized_custom_scores = [[r[0]/sum_of_col,r[1]] for r in custom_array]\n",
        "    #print(normalized_custom_scores)\n",
        "    # Normalize tf-idf scores and scale it by 0.8\n",
        "    tf_idf_doc_scores = rank_tfidf(terms, docs, doc_info, index, idf, tf) \n",
        "    custom_array  = np.array(tf_idf_doc_scores)\n",
        "    sum_of_col = custom_array.sum(axis=0)[0]\n",
        "    normalized_tfidf_scores = [[r[0]/sum_of_col*0.4,r[1]] for r in custom_array]\n",
        "    #print(normalized_tfidf_scores)\n",
        "\n",
        "    \n",
        "    datetime_score = [[perform_date_substraction(doc_info[str(doc)][2]), doc] for doc in docs]\n",
        "\n",
        "    # Normalize time score and scale it by 1.2\n",
        "    custom_array  = np.array(datetime_score)\n",
        "    sum_of_col = custom_array.sum(axis=0)[0]\n",
        "    normalized_time_scores = [[(1-r[0]/sum_of_col)*1.2,r[1]] for r in custom_array]\n",
        "    b = [el[1] for el in tf_idf_doc_scores]\n",
        "    b_1 = [el[1] for el in custom_scores]\n",
        "    a = set(b) | set(b_1)\n",
        "    \n",
        "    total_scores = [[] for e in a ]\n",
        "    total_scores = []\n",
        "    for e in a:\n",
        "        suma = 0\n",
        "        for x in normalized_tfidf_scores:\n",
        "            if x[1] == e:\n",
        "                suma+=x[0]\n",
        "        for y in normalized_custom_scores:\n",
        "            if y[1] == e:\n",
        "                suma+=y[0]\n",
        "        for z in normalized_time_scores:\n",
        "            if z[1] == e:\n",
        "                suma+=z[0]\n",
        "        total_scores.append([suma,e])\n",
        "    return total_scores"
      ],
      "execution_count": 132,
      "outputs": []
    },
    {
      "cell_type": "markdown",
      "metadata": {
        "id": "WLCU--ztqgJk"
      },
      "source": [
        "## 2 - Word2Vec + cosine similarity"
      ]
    },
    {
      "cell_type": "code",
      "metadata": {
        "id": "Z-HvDjdDqgJk"
      },
      "source": [
        "def w2v_vector(text, w2v_model):\n",
        "    '''\n",
        "    return the mean vector created from the embedded matrix of the word2vec model\n",
        "    '''\n",
        "\n",
        "    # Compute W2V embedding for each term\n",
        "    w2v_vectors = []\n",
        "    \n",
        "    for term in text:\n",
        "        \n",
        "        try: w2v_vectors.append(w2v_model.wv[term])\n",
        "        except: pass\n",
        "        \n",
        "    if len(w2v_vectors) == 0:\n",
        "        return np.zeros(w2v_model.vector_size)\n",
        "\n",
        "    # Compute mean vector\n",
        "    final_vector = np.zeros(w2v_model.vector_size)\n",
        "    for vec in w2v_vectors:\n",
        "        for pos in range(w2v_model.vector_size):\n",
        "            final_vector[pos] += vec[pos]\n",
        "\n",
        "    \n",
        "    return final_vector/len(w2v_vectors)"
      ],
      "execution_count": 22,
      "outputs": []
    },
    {
      "cell_type": "code",
      "metadata": {
        "id": "c1eJXw4oqgJl"
      },
      "source": [
        "def rank_w2vec(terms, docs, doc_info, index, idf, tf):\n",
        "\n",
        "    words = []\n",
        "    for tweet in doc_info:\n",
        "        try: text = doc_info[tweet][0]\n",
        "        except: text = doc_info[tweet][3]\n",
        "        words.append(clean(text))\n",
        "    w2v_model = Word2Vec(words)\n",
        "\n",
        "    # Create mean vectors\n",
        "    query_vector = w2v_vector(terms, w2v_model)\n",
        "    \n",
        "    # create score\n",
        "    w2v_scores = [[np.dot(query_vector, w2v_vector(clean(doc_info[str(doc)][0]),\n",
        "                                              w2v_model)), doc] for doc in docs]\n",
        "    \n",
        "    return w2v_scores"
      ],
      "execution_count": 23,
      "outputs": []
    },
    {
      "cell_type": "markdown",
      "metadata": {
        "id": "suEPYo93qgJl"
      },
      "source": [
        "## Evaluation"
      ]
    },
    {
      "cell_type": "code",
      "metadata": {
        "id": "Pgw8nCtwNDKl"
      },
      "source": [
        "def search(query,language, index, method):\n",
        "    \"\"\"\n",
        "    output is the list of documents that contain any of the query terms. \n",
        "    So, we will get the list of documents for each query term, and take the union of them.\n",
        "    \"\"\"\n",
        "    query = clean(query,language)\n",
        "    docs = [set()] * len(query)\n",
        "    for i, term in enumerate(query):\n",
        "        try:\n",
        "            # store in term_docs the ids of the docs that contain \"term\"                        \n",
        "            termDocs=[posting[0] for posting in index[term]]\n",
        "            \n",
        "            # docs = docs Union term_docs\n",
        "            docs[i] = set(termDocs)\n",
        "        except:\n",
        "            #term is not in index\n",
        "            pass\n",
        "    \n",
        "    docs = list(set.intersection(*docs))\n",
        "    \n",
        "    \n",
        "    if method == \"2\":\n",
        "        doc_scores = rank_custom(query, docs, doc_info, index, idf, tf)\n",
        "    elif method == \"3\":\n",
        "        doc_scores = rank_w2vec(query, docs, doc_info, index, idf, tf)\n",
        "    else:\n",
        "        doc_scores = rank_tfidf(query, docs, doc_info, index, idf, tf)\n",
        "    \n",
        "    doc_scores.sort(reverse=True)\n",
        "    \n",
        "    ranked_docs = [x[1] for x in doc_scores]\n",
        "    \n",
        "    return ranked_docs"
      ],
      "execution_count": 24,
      "outputs": []
    },
    {
      "cell_type": "code",
      "metadata": {
        "id": "OIKVqCJkNDKl",
        "scrolled": false
      },
      "source": [
        "def perform_query(query=None, method=None):\n",
        "  if query is None:\n",
        "    print(\"Write your query (i.e.: Computer Science):\\n\")\n",
        "    query = input()\n",
        "  \n",
        "  if method is None:\n",
        "    print(\"Choose ranking method: 1-TF-IDF(default) 2-Custom 3-Word2Vec\")\n",
        "    method = input()\n",
        "\n",
        "  if method == \"2\":\n",
        "      print(\"Using custom ranking...\")\n",
        "  elif method == \"3\":\n",
        "      print(\"Using Word2Vec ranking...\")\n",
        "  else:\n",
        "      method=\"1\"\n",
        "      print(\"Using TF-IDF ranking...\")\n",
        "\n",
        "\n",
        "  while True:\n",
        "      try:\n",
        "          #we will assume query is perfomed in english but leave the language options\n",
        "          language = \"en\" \n",
        "          if len(language) == 2:\n",
        "              language = pycountry.languages.get(alpha_2=language).name.lower()\n",
        "          elif len(language) == 3:\n",
        "              language = pycountry.languages.get(alpha_3=language).name.lower()\n",
        "          else:\n",
        "              if language not in list(pycountry.languages):\n",
        "                  raise Exception(\"\")\n",
        "          break           \n",
        "      except:\n",
        "          print(\"Language not detected. Try again (write the ISO 639-3 code or the name in english): \")\n",
        "          continue\n",
        "  print(\"Language: \"+language)\n",
        "  \n",
        "  ranked_docs = search(query,language, index, method)\n",
        "  \n",
        "  print(\"\\n======================\\n Results ordered by relevance for the searched query:\\n\")\n",
        "  for d_id in ranked_docs[:topK]:\n",
        "      print(d_id, doc_info[str(d_id)][0],doc_info[str(d_id)][-1])\n",
        "      print('--------------------------------------------------')"
      ],
      "execution_count": 25,
      "outputs": []
    },
    {
      "cell_type": "code",
      "metadata": {
        "colab": {
          "base_uri": "https://localhost:8080/"
        },
        "id": "QeTfiSA2qgJm",
        "outputId": "a3cd64e2-1939-4045-e884-c9792b9af95c"
      },
      "source": [
        "#Testing our custom ranking\n",
        "perform_query(query=\"covid19 vaccine\", method=\"2\")"
      ],
      "execution_count": 133,
      "outputs": [
        {
          "output_type": "stream",
          "name": "stdout",
          "text": [
            "Using custom ranking...\n",
            "Language: english\n",
            "\n",
            "======================\n",
            " Results ordered by relevance for the searched query:\n",
            "\n",
            "1959 💉💉💉💉\n",
            "💉💉💉💉\n",
            "💉💉💉💉\n",
            "💉💉💉💉\n",
            "💉💉💉💉                 💉💉💉💉\n",
            "💉💉💉💉                 💉💉💉💉\n",
            "\n",
            "COVID-19 vaccines     COVID-19 vaccines\n",
            "in 10 countries             in the rest of the 🌍\n",
            "\n",
            "#VaccinEquity is 🗝️ to ending the pandemic, together!\n",
            "\n",
            "#WorldEmojiDay https://twitter.com/WHO/status/1416433609091653633\n",
            "--------------------------------------------------\n",
            "904 #COVID19 variants &amp; vaccines:\n",
            "\n",
            "✅ COVID-19 vaccines provide strong protection against serious illness &amp; death\n",
            "✅ Get all necessary doses to develop maximum protection\n",
            "✅ Continue practicing all the protective behaviours even after vaccination to stop COVID-19 variants https://twitter.com/WHO/status/1434790971632336906\n",
            "--------------------------------------------------\n",
            "1045 ▶️ If you have #COVID19, is it safe to breastfeed your baby❓\n",
            "\n",
            "▶️ Is it safe to get vaccinated against COVID-19 if you are breastfeeding❓\n",
            "\n",
            "▶️ How can you keep your baby safe while breastfeeding 🤱 if you have COVID-19❓\n",
            "\n",
            "Dr Laurence Grummer-Strawn explains in #ScienceIn5. https://t.co/QMAq9TMY7A https://twitter.com/WHO/status/1432292855037394953\n",
            "--------------------------------------------------\n",
            "1310 Getting vaccinated against #COVID19 helps protect you from getting sick. As soon as it's your turn, take your vaccine!\n",
            "\n",
            "All approved COVID-19 vaccines have been thoroughly tested, and all provide a high degree of protection against getting seriously ill &amp; dying from the disease. https://t.co/bYpU3WvpuM https://twitter.com/WHO/status/1426786068192366592\n",
            "--------------------------------------------------\n",
            "1849 COVID-19 vaccine inequity is undermining 🌍 economic recovery. 🆕WHO, @UNDP and @BlavatnikSchool Dashboard on #VaccinEquity finds that low-income countries would add $38B to their GDP forecast if they had the same vaccination rate as high-income countries\n",
            "https://t.co/BsYF2eYL1G https://twitter.com/WHO/status/1418205159188955137\n",
            "--------------------------------------------------\n",
            "300 RT @WHOAFRO: 📺 LIVE: @WHOAFRO media briefing on the #COVID19 pandemic &amp; the global 10% COVID-19 vaccination milestones reached by countries… https://twitter.com/WHO/status/1443517908072730624\n",
            "--------------------------------------------------\n",
            "310 RT @WHOAFRO: Join tomorrow's media briefing on the #COVID19 pandemic &amp; the global 10% COVID-19 vaccination milestones reached by countries… https://twitter.com/WHO/status/1443289841698025473\n",
            "--------------------------------------------------\n",
            "935 RT @WHONepal: Nepal has administered more than 🔟million doses of COVID-19 💉💉💉, fully vaccinating 15% of its population. This feat wouldn't… https://twitter.com/WHO/status/1433469315710341130\n",
            "--------------------------------------------------\n",
            "2257 Q&amp;A #AskWHO on COVID-19 vaccines effectiveness https://t.co/FEdfOREhjn https://twitter.com/WHO/status/1410270080873598979\n",
            "--------------------------------------------------\n",
            "1565 Are you involved in the costing, budgeting or financing processes of #COVID19 vaccine delivery in your country?\n",
            "\n",
            "Join our 🆕 #OpenWHO course to learn how to use the COVID-19 Vaccine Introduction and deployment Costing Tool.\n",
            "\n",
            "👉 https://t.co/vyXfuxXSDB https://t.co/XPr1caIFg6 https://twitter.com/WHO/status/1422146679051067400\n",
            "--------------------------------------------------\n",
            "2202 \"[COVID19] Delta has been detected in at least 98 countries and is spreading quickly in countries with low and high vaccination coverage.\"-@DrTedros https://twitter.com/WHO/status/1410944996241465345\n",
            "--------------------------------------------------\n",
            "2253 The heads of the four organizations discussed the urgency of increasing supplies of #COVID19 vaccines, therapeutics and diagnostics for developing countries; and practical &amp; effective ways to track, coordinate and advance delivery of COVID-19 vaccines to developing countries. https://t.co/fpISmcwQc2 https://twitter.com/WHO/status/1410328481335029765\n",
            "--------------------------------------------------\n"
          ]
        }
      ]
    },
    {
      "cell_type": "markdown",
      "metadata": {
        "id": "1QCUkRm4qgJm"
      },
      "source": [
        "## word2vec + cosine similarity queries"
      ]
    },
    {
      "cell_type": "code",
      "metadata": {
        "colab": {
          "base_uri": "https://localhost:8080/"
        },
        "id": "TND1JJIHqgJm",
        "outputId": "75380eeb-3ef1-4791-d26c-d5b86af9cb26"
      },
      "source": [
        "perform_query(query=\"vaccine\", method=\"3\")"
      ],
      "execution_count": 141,
      "outputs": [
        {
          "output_type": "stream",
          "name": "stdout",
          "text": [
            "Using Word2Vec ranking...\n",
            "Language: english\n",
            "\n",
            "======================\n",
            " Results ordered by relevance for the searched query:\n",
            "\n",
            "1469 Getting vaccinated 💉 can help protect you and those around you from #COVID19 ⬇️ https://t.co/3GrojOAWT6 https://twitter.com/WHO/status/1423591981456838656\n",
            "--------------------------------------------------\n",
            "2250 RT @DrTedros: We are calling on #G20 countries to share more #COVID19 vaccine doses now, including by ensuring at least 1 billion doses are… https://twitter.com/WHO/status/1410362947046682625\n",
            "--------------------------------------------------\n",
            "1323 RT @DrTedros: Countries with high coverage are seeing a decoupling of #COVID19 cases &amp; deaths, whereas countries that can't access vaccines… https://twitter.com/WHO/status/1426509340744327170\n",
            "--------------------------------------------------\n",
            "2386 Here is why you should get vaccinated even if you have had #COVID19 👇 https://twitter.com/WHO/status/1408416636084707335\n",
            "--------------------------------------------------\n",
            "1400 @DrTedros \"By contrast, we have several effective vaccines for #COVID19, and yet cases and deaths continue to rise\"-@DrTedros https://t.co/VrS3iTyZdn https://twitter.com/WHO/status/1425446081169608711\n",
            "--------------------------------------------------\n",
            "177 \"We call on global and regional multilateral development banks to support countries to more rapidly access the capital they need to fund #COVID19 vaccine delivery programmes\"-@DrTedros #VaccinEquity https://twitter.com/WHO/status/1446112913962385483\n",
            "--------------------------------------------------\n",
            "855 @DrTedros \"We thank those countries that recognize all vaccines with WHO Emergency Use Listing, and we call on all countries to do the same\"-@DrTedros #COVID19 https://t.co/SxVrUSmtqw https://twitter.com/WHO/status/1435613167107952640\n",
            "--------------------------------------------------\n",
            "1868 Getting vaccinated 💉 against #COVID19 helps protect you from getting sick. https://t.co/9Ad3uW0NsN https://twitter.com/WHO/status/1417865492333621253\n",
            "--------------------------------------------------\n",
            "1467 Vaccines 💉 are highly effective against severe illness and death caused by the #COVID19 variants, including Delta ⬇️ https://t.co/07RsaQLsM6 https://twitter.com/WHO/status/1423622807913566212\n",
            "--------------------------------------------------\n",
            "1324 Vaccines 💉 are highly effective against severe illness and death caused by #COVID19 virus variants, including Delta ⬇\n",
            "\n",
            "https://t.co/Nz3YRwvHfb https://twitter.com/WHO/status/1426469828806676481\n",
            "--------------------------------------------------\n",
            "2047 @DrTedros \"The global gap in #COVID19 vaccine supply is hugely uneven and inequitable. Some countries and regions are actually ordering millions of booster doses, before other countries have had supplies to vaccinate their #healthworkers and most vulnerable\"-@DrTedros #VaccinEquity https://twitter.com/WHO/status/1414596410281013250\n",
            "--------------------------------------------------\n",
            "251 Many countries around the 🌎🌍🌏 still face steep increases in #COVID19 cases &amp; deaths.\n",
            "\n",
            "WHO continues to provide critical support from improving regional #COVID19 vaccine production to delivering medical supplies to the vulnerable.\n",
            "\n",
            "👉https://t.co/9hp1lPg1ZY #WHOImpact https://t.co/Xp0ZAEjMbW https://twitter.com/WHO/status/1444751108040232960\n",
            "--------------------------------------------------\n",
            "285 RT @DrTedros: In May, @WHO set the world a #VaccinEquity challenge: to vaccinate at least 10% of the population of every country against #C… https://twitter.com/WHO/status/1443834880526331957\n",
            "--------------------------------------------------\n",
            "760 RT @DrTedros: A year ago, we were still hoping a safe &amp; effective #COVID19 vaccine would be developed &amp; that it would be shared equitably i… https://twitter.com/WHO/status/1437766148708343808\n",
            "--------------------------------------------------\n",
            "1959 💉💉💉💉\n",
            "💉💉💉💉\n",
            "💉💉💉💉\n",
            "💉💉💉💉\n",
            "💉💉💉💉                 💉💉💉💉\n",
            "💉💉💉💉                 💉💉💉💉\n",
            "\n",
            "COVID-19 vaccines     COVID-19 vaccines\n",
            "in 10 countries             in the rest of the 🌍\n",
            "\n",
            "#VaccinEquity is 🗝️ to ending the pandemic, together!\n",
            "\n",
            "#WorldEmojiDay https://twitter.com/WHO/status/1416433609091653633\n",
            "--------------------------------------------------\n",
            "1296 RT @DrTedros: To achieve #VaccinEquity &amp; accelerate vaccination of 10% population everywhere by September, we need:\n",
            "1⃣ countries to share d… https://twitter.com/WHO/status/1427219695204188169\n",
            "--------------------------------------------------\n",
            "1983 @DrTedros @jensspahn @ACTAccelerator \"The committee has called on all countries to support WHO’s call to vaccinate at least 10% of the population of every country by the end of September\"-@DrTedros #COVID19 #VaccinEquity https://twitter.com/WHO/status/1415647910138687488\n",
            "--------------------------------------------------\n",
            "915 Vaccines 💉 give us a high level of protection from serious illness &amp; death from #COVID19 variants, including Delta.\n",
            "\n",
            "The more people are vaccinated, the less opportunity the virus has to spread &amp; develop new variants. https://twitter.com/WHO/status/1434200860007931905\n",
            "--------------------------------------------------\n",
            "758 RT @DrTedros: The fastest ways to stop #COVID19 for all of us are vaccinating the most at-risk in all countries &amp; reducing transmission. Th… https://twitter.com/WHO/status/1437766170061463554\n",
            "--------------------------------------------------\n",
            "2384 RT @WHO: Even after getting vaccinated against #COVID19, 𝗸𝗲𝗲𝗽 𝘁𝗮𝗸𝗶𝗻𝗴 𝗽𝗿𝗲𝗰𝗮𝘂𝘁𝗶𝗼𝗻𝘀 to protect family and friends. https://t.co/bnOGX254MB https://twitter.com/WHO/status/1408441069528924166\n",
            "--------------------------------------------------\n"
          ]
        }
      ]
    },
    {
      "cell_type": "code",
      "metadata": {
        "colab": {
          "base_uri": "https://localhost:8080/"
        },
        "id": "IRmQ2y2bqgJn",
        "outputId": "80570e37-b330-4324-bd9f-01005261aaed"
      },
      "source": [
        "perform_query(query=\"challenge\", method=\"3\")"
      ],
      "execution_count": 142,
      "outputs": [
        {
          "output_type": "stream",
          "name": "stdout",
          "text": [
            "Using Word2Vec ranking...\n",
            "Language: english\n",
            "\n",
            "======================\n",
            " Results ordered by relevance for the searched query:\n",
            "\n",
            "285 RT @DrTedros: In May, @WHO set the world a #VaccinEquity challenge: to vaccinate at least 10% of the population of every country against #C… https://twitter.com/WHO/status/1443834880526331957\n",
            "--------------------------------------------------\n",
            "444 @DrTedros @EmmanuelMacron @ACTAccelerator \"Countries told us they needed support to build their capacities for emergency preparedness &amp; response, to respond to the dual challenge of communicable &amp; noncommunicable diseases, &amp; to strengthen every facet of their health systems\"-@DrTedros #WHOAcademy https://t.co/Osc48s0z2p https://twitter.com/WHO/status/1442494793607639049\n",
            "--------------------------------------------------\n",
            "2093 With 15 signatories, including @DrTedros &amp; @KagutaMuseveni, the Kampala Declaration stresses that unequal access to vaccines is an existential challenge for global health &amp; calls for increased international solidarity in tackling #COVID19.\n",
            "#VaccinEquity\n",
            "\n",
            "👉https://t.co/yZRMWTrPHI https://t.co/qPZ6OhS3Gd https://twitter.com/WHO/status/1412781617467305985\n",
            "--------------------------------------------------\n",
            "146 RT @DrTedros: The need for #mentalhealth services has become even more acute during the #COVID19 pandemic. We must heed the challenge and d… https://twitter.com/WHO/status/1446481486346170377\n",
            "--------------------------------------------------\n",
            "713 RT @WHOAFRO: @WHOAFRO #COVID19 press briefing on the pandemic &amp; the impact of #COVAX vaccine supply challenges. Speakers include: Dr @Moeti… https://twitter.com/WHO/status/1438528587783495686\n",
            "--------------------------------------------------\n",
            "715 RT @WHOAFRO: Don't miss this week's @WHOAFRO #COVID19 press briefing on the pandemic &amp; the impact of #COVAX vaccine supply challenges. Spea… https://twitter.com/WHO/status/1438229129208467459\n",
            "--------------------------------------------------\n",
            "2336 \"But even once the #COVID19 pandemic subsides, we know that many of you will still be left facing many of the same health challenges you had before it struck\"-@DrTedros https://twitter.com/WHO/status/1409427292334534658\n",
            "--------------------------------------------------\n",
            "1544 Working from 🏠, unemployment, 🏫 closures &amp; social isolation have affected people 🌍 during the #COVID19 pandemic. The challenges for people with #mentalhealth conditions, for whom access to treatment has been disrupted, are even greater.\n",
            "\n",
            "⚽️ https://t.co/VMZxBomqlZ #ReachOut https://twitter.com/WHO/status/1422504030182445063\n",
            "--------------------------------------------------\n",
            "440 @DrTedros @EmmanuelMacron @ACTAccelerator \"Global health challenges are constantly evolving, and so must the way we learn. Traditional classroom-based, in-person training is valuable, but is inadequate in its impact, scale and speed to meet global health challenges\"-@DrTedros #WHOAcademy https://twitter.com/WHO/status/1442496316639219714\n",
            "--------------------------------------------------\n",
            "2324 #AI can be used to improve\n",
            "\n",
            "✅ patient &amp; clinical care\n",
            "✅ diagnosis &amp; screening for diseases\n",
            "✅ health research\n",
            "✅ pandemic preparedness &amp; response\n",
            "&amp; more.\n",
            "\n",
            "WHO’s report explains how we can address ethical challenges to fully unlock the potential of AI 👉https://t.co/fC7SX51YzY https://t.co/g23SxKQdyp https://twitter.com/WHO/status/1409489891797446656\n",
            "--------------------------------------------------\n",
            "573 @DrTedros @WHOEMRO \"Our objective in both countries [#Lebanon, #Afghnaistan] was to see ourselves the health challenges communities are facing &amp; to engage with senior political leaders to assess how best WHO can support health systems that are under severe strain\"-@DrTedros\n",
            "https://t.co/hhIWCnD8Z6 https://twitter.com/WHO/status/1440968119753875457\n",
            "--------------------------------------------------\n",
            "2289 8 of the 41 SIDS face pressing health workforce challenges related to #HealthForAll.\n",
            "\n",
            "#COVID19 has heavily impacted the health workers – including their heightened risk of infection &amp; death, burnout, fatigue, discrimination &amp; mental health issues. https://t.co/xGEJBModDa https://twitter.com/WHO/status/1409872711355187200\n",
            "--------------------------------------------------\n",
            "690 RT @DrTedros: Met with medical syndicates in 🇱🇧. The shortage of supplies &amp; health experts' migration remain main challenges. Life-saving s… https://twitter.com/WHO/status/1438901676082089994\n",
            "--------------------------------------------------\n",
            "2225 \"The Gender Equality Forum presents us with the opportunity not just to acknowledge these challenges &amp; ambitions, but to take action. \n",
            "WHO is committed to advocating for decent &amp; safe work conditions for all health &amp; care workers, esp. women.\"-@DrTedros at #GenerationEquality https://twitter.com/WHO/status/1410608055016775690\n",
            "--------------------------------------------------\n",
            "939 The new WHO report showcases the progress made in the global response to #dementia. It includes latest data on\n",
            " \n",
            "1⃣ dementia prevalence\n",
            "2⃣ societal costs of the condition\n",
            "3⃣ progress &amp; challenges reported by countries.\n",
            " \n",
            "More details 👉https://t.co/nt5wPU7Hfq https://t.co/ebZEOBf5NS https://twitter.com/WHO/status/1433403791315910658\n",
            "--------------------------------------------------\n",
            "750 @DrTedros @gavi @CEPIvaccines @UNICEF \"So far, #COVAX has shipped more than 260 million [#COVID19 vaccine] doses to 141 countries.\n",
            "But as you know, COVAX has also faced several challenges, with manufacturers prioritizing bilateral deals and many high-income countries tying up the global supply of vaccines\"-@DrTedros https://twitter.com/WHO/status/1437781800361865223\n",
            "--------------------------------------------------\n",
            "1262 @DrTedros @pahowho \"The people of #Afghanistan are facing an enormous challenge. We’re extremely concerned by the large displacement of people &amp; increasing cases of diarrhoea, malnutrition, high blood pressure, probable cases of #COVID19 &amp; reproductive health complications\"-@DrTedros https://twitter.com/WHO/status/1427987221374803968\n",
            "--------------------------------------------------\n",
            "1284 RT @WHOEMRO: During this challenging period, the delivery of essential health services must be maintained, and health workers respected and… https://twitter.com/WHO/status/1427384938299543554\n",
            "--------------------------------------------------\n",
            "468 The new story drew from the responses to a survey of more than 5000 children, parents, caregivers and teachers from around the world who were asked to describe the challenges they continue to face in the second year of the #COVID19 pandemic https://t.co/JiURHzrEDP https://t.co/U5mvGbqPSN https://twitter.com/WHO/status/1442382972125069312\n",
            "--------------------------------------------------\n",
            "1985 @DrTedros @jensspahn @ACTAccelerator \"It has also warned about the strong likelihood for the emergence and global spread of new and possibly more dangerous [#COVID19] variants of concern that may be even more challenging to control\"-@DrTedros https://t.co/Ms4wJoXaun https://twitter.com/WHO/status/1415647203658506241\n",
            "--------------------------------------------------\n"
          ]
        }
      ]
    },
    {
      "cell_type": "code",
      "metadata": {
        "colab": {
          "base_uri": "https://localhost:8080/"
        },
        "id": "Q7JUPQ_KqgJn",
        "outputId": "f0ad0b1d-236f-42b1-c08c-fc7aefc72587"
      },
      "source": [
        "perform_query(query=\"health\", method=\"3\")"
      ],
      "execution_count": 143,
      "outputs": [
        {
          "output_type": "stream",
          "name": "stdout",
          "text": [
            "Using Word2Vec ranking...\n",
            "Language: english\n",
            "\n",
            "======================\n",
            " Results ordered by relevance for the searched query:\n",
            "\n",
            "528 RT @DrTedros: It was my pleasure to join Prince Harry and Meghan, The Duke &amp; Duchess of Sussex, &amp; a group of leaders in health, politics &amp;… https://twitter.com/WHO/status/1441373266875064320\n",
            "--------------------------------------------------\n",
            "1493 RT @DrTedros: .@WHO &amp; partners are:\n",
            "1. providing access to life-saving health services for those worst-affected by the crisis\n",
            "2. supporting… https://twitter.com/WHO/status/1422999094042169344\n",
            "--------------------------------------------------\n",
            "1424 RT @DrTedros: The new @IPCC_CH report shows that every fraction of a degree hotter endangers our health and future. Similarly, every action… https://twitter.com/WHO/status/1424990056939466763\n",
            "--------------------------------------------------\n",
            "909 RT @DrTedros: At the @g20org Health Minister meeting, I called for commitment &amp; support of #G20 countries to reach @WHO's global #COVID19 t… https://twitter.com/WHO/status/1434712744045936642\n",
            "--------------------------------------------------\n",
            "1161 RT @DrTedros: Thank you H.E. Péter Szijjártó, 🇭🇺 Minister of Foreign Affairs &amp; Trade, for supporting the health needs of vulnerable countri… https://twitter.com/WHO/status/1429823226688020483\n",
            "--------------------------------------------------\n",
            "907 RT @DrTedros: Had good meeting with #Russia Minister of Health Mikhail Murashko on @WHO-🇷🇺 collaboration on the #COVID19 response &amp; strengt… https://twitter.com/WHO/status/1434767125957287939\n",
            "--------------------------------------------------\n",
            "83 RT @DrTedros: Today is #WorldMentalHealthDay! The #COVID19 pandemic has both had a major impact on people’s mental health and significantly… https://twitter.com/WHO/status/1447226874262872067\n",
            "--------------------------------------------------\n",
            "156 The world has failed to provide people with the #MentalHealth services they need: new Mental Health Atlas\n",
            "Read more➡️https://t.co/J0uKvKWZ46 https://t.co/0wKx6JTV2F https://twitter.com/WHO/status/1446424624141684738\n",
            "--------------------------------------------------\n",
            "910 RT @DrTedros: Grazie mille @robersperanza, 🇮🇹 Minister of Health, for hosting today's @G20org Health Ministers Meeting. You provided a powe… https://twitter.com/WHO/status/1434602926392193027\n",
            "--------------------------------------------------\n",
            "76 RT @DrTedros: Thank you for your leadership and for encouraging the people of #Malaysia to talk about #mentalhealth, Health Minister @Khair… https://twitter.com/WHO/status/1447251536187437059\n",
            "--------------------------------------------------\n",
            "398 Today is #InternationalSafeAbortionDay. Access to safe #abortion protects the health and promotes the human rights of women and girls\n",
            "\n",
            "https://t.co/LBCUghiBh2 https://t.co/II1HRd6KjK https://twitter.com/WHO/status/1442774360905895938\n",
            "--------------------------------------------------\n",
            "2056 @DrTedros \"As countries lift public health and social measures, they must consider the impact on #healthworkers and health systems\"-@DrTedros #COVID19 \n",
            "\n",
            "https://t.co/PdlUzMzbTl https://twitter.com/WHO/status/1414595108188659713\n",
            "--------------------------------------------------\n",
            "2380 @DrTedros \"As some countries ease public health and social measures, we are starting to see increases in #COVID19 transmission around the world. More cases means more hospitalizations, further stretching health workers and health systems, which increases the risk of death\"-@DrTedros https://twitter.com/WHO/status/1408448204023205895\n",
            "--------------------------------------------------\n",
            "627 RT @DrTedros: Health is a service that needs to be continued at all times. If #Afghanistan's health system collapses, the tragedy will be w… https://twitter.com/WHO/status/1440278241814536192\n",
            "--------------------------------------------------\n",
            "1645 @DrTedros \"We now have 152 country offices around the world. They are central to what WHO does – supporting countries to strengthen health systems and improve the health of their populations\"-@DrTedros #WHOImpact \n",
            "\n",
            "https://t.co/zOxdUJhQHd https://twitter.com/WHO/status/1421113125395484674\n",
            "--------------------------------------------------\n",
            "1048 Compassion - why is it important in health care, both for those who give and those who receive health services? https://t.co/6jgRM3fMNQ https://t.co/r6boOGPANS https://twitter.com/WHO/status/1432042366211403785\n",
            "--------------------------------------------------\n",
            "2013 The Emergency Committee on #COVID19 reconvenes every 3 months to evaluate the evolution of the pandemic &amp; make recommendations to WHO &amp; countries on how to respond to the Public Health Emergency of International Concern.\n",
            "\n",
            "Previous recommendations: https://t.co/cA4FCWWUqJ https://t.co/bmkZN64X50 https://twitter.com/WHO/status/1415311665801965568\n",
            "--------------------------------------------------\n",
            "1441 This is how #ClimateChange hurts your health ⬇️ https://t.co/cUxNy5EnZx https://twitter.com/WHO/status/1424748548504096773\n",
            "--------------------------------------------------\n",
            "444 @DrTedros @EmmanuelMacron @ACTAccelerator \"Countries told us they needed support to build their capacities for emergency preparedness &amp; response, to respond to the dual challenge of communicable &amp; noncommunicable diseases, &amp; to strengthen every facet of their health systems\"-@DrTedros #WHOAcademy https://t.co/Osc48s0z2p https://twitter.com/WHO/status/1442494793607639049\n",
            "--------------------------------------------------\n",
            "40 RT @WHONAMIBIA: Today is #WorldMentalHealthDay! \n",
            "\n",
            "The #COVID19 pandemic has significantly disrupted mental health care services. \n",
            "\n",
            "It’s tim… https://twitter.com/WHO/status/1447423522339495936\n",
            "--------------------------------------------------\n"
          ]
        }
      ]
    },
    {
      "cell_type": "code",
      "metadata": {
        "colab": {
          "base_uri": "https://localhost:8080/"
        },
        "id": "exeYEv_KqgJn",
        "outputId": "a27b8256-85e1-4ea5-eb46-e2a9708957d0"
      },
      "source": [
        "perform_query(query=\"recovery\", method=\"3\")"
      ],
      "execution_count": 144,
      "outputs": [
        {
          "output_type": "stream",
          "name": "stdout",
          "text": [
            "Using Word2Vec ranking...\n",
            "Language: english\n",
            "\n",
            "======================\n",
            " Results ordered by relevance for the searched query:\n",
            "\n",
            "14 LIVE with @DrTedros: Ending the #COVID19 pandemic: road to an inclusive recovery. #VaccinEquity https://t.co/q9x4v3ixBl https://twitter.com/WHO/status/1447972516161490944\n",
            "--------------------------------------------------\n",
            "1843 The #VaccinEquity Dashboard from WHO, @UNDP, and @BlavatnikSchool shows that low- and lower-middle-income countries must have access to vaccines now to:\n",
            "👩‍⚕️Save lives\n",
            "💹Promote economic recovery\n",
            "👨‍👩‍👧‍👦Advance human development\n",
            "\n",
            "https://t.co/48frkTNNmC https://t.co/zAnwTQfX3f https://twitter.com/WHO/status/1418240365086355456\n",
            "--------------------------------------------------\n",
            "2115 @DrTedros \"Variants are currently winning the race against vaccines because of inequitable vaccine production &amp; distribution, which also threatens the global economic recovery. It didn’t have to be this way &amp; it doesn’t have to be this way going forward\"-@DrTedros #COVID19 #VaccinEquity https://twitter.com/WHO/status/1412763816035864581\n",
            "--------------------------------------------------\n",
            "18 ☎️ Will you take the #ClimateAction call❓\n",
            " \n",
            "Countries must set ambitious commitments if they are to sustain a healthy &amp; green recovery from the pandemic.\n",
            " \n",
            "Here are WHO’s 🔟 calls to assure sustained recovery from #COVID19 👉 https://t.co/WXMdMgPSWv\n",
            "https://t.co/aSBosI6lmZ https://twitter.com/WHO/status/1447686744476995588\n",
            "--------------------------------------------------\n",
            "2340 \"The major hurdle to recovery remains equitable access to #COVID19 vaccines. Through #COVAX, we have so far been able to deliver two million vaccines to 31 Small Island Developing States, as well as other essential health products\"-@DrTedros #VaccinEquity \n",
            "https://t.co/Xbtw38JACo https://twitter.com/WHO/status/1409426251400499200\n",
            "--------------------------------------------------\n",
            "28 WHO's 10 calls for #ClimateAction❗️\n",
            "\n",
            "1⃣ Commit to a healthy recovery\n",
            "2⃣ Place health at the ❤️ of the climate talks\n",
            "3⃣ Harness the health benefits of climate action\n",
            "4⃣ Build health resilience to climate risks\n",
            "5⃣ Create greener &amp; healthier energy systems\n",
            "\n",
            "👉https://t.co/WXMdMgPSWv https://t.co/COMZeBQGXZ https://twitter.com/WHO/status/1447608850899742723\n",
            "--------------------------------------------------\n",
            "1166 If you had #COVID19 do you still need the vaccine? How long should you wait after recovery to get vaccinated? What do we know about natural immunity vs vaccine induced immunity? WHO’s Chief Scientist @doctorsoumya explains in #ScienceIn5 this week ⬇️ https://t.co/70mtKDyVWj https://twitter.com/WHO/status/1429469791857823750\n",
            "--------------------------------------------------\n",
            "521 Health needs to be put at the center of #FoodSystems transformation to ensure:\n",
            "\n",
            "✅ a healthy recovery from #COVID19\n",
            "✅ food security\n",
            "✅ #HealthForAll\n",
            "\n",
            "👉https://t.co/KvTCXnAlx8 https://t.co/24QayHap3q https://twitter.com/WHO/status/1441414150022914050\n",
            "--------------------------------------------------\n",
            "1849 COVID-19 vaccine inequity is undermining 🌍 economic recovery. 🆕WHO, @UNDP and @BlavatnikSchool Dashboard on #VaccinEquity finds that low-income countries would add $38B to their GDP forecast if they had the same vaccination rate as high-income countries\n",
            "https://t.co/BsYF2eYL1G https://twitter.com/WHO/status/1418205159188955137\n",
            "--------------------------------------------------\n",
            "2025 Health needs to be put at the center of food systems transformation to ensure:\n",
            "\n",
            "✅ a healthy recovery from #COVID19\n",
            "✅ food security\n",
            "✅ improved nutrition\n",
            "✅ affordable healthy diets\n",
            "✅ #HealthForAll \n",
            " \n",
            "More in details 👉https://t.co/KvTCXnAlx8 https://t.co/vIptqHljcp https://twitter.com/WHO/status/1414951168988622853\n",
            "--------------------------------------------------\n",
            "2197 \"This is the best way to slow the [#COVID19] pandemic, save lives, drive a truly global economic recovery and along the way prevent further dangerous variants from getting the upper hand.\"-@DrTedros\n",
            "https://t.co/piygNnMPYg https://twitter.com/WHO/status/1410946505142329347\n",
            "--------------------------------------------------\n",
            "1371 The impact of #COVID19 and the measures put in place to control the pandemic have had a significant impact on young people.\n",
            "\n",
            "The youth 🙌 are part of the solution and must be at the forefront of recovery programs and policies.\n",
            " \n",
            "#YouthDay https://t.co/rtaaZ8CJwp https://twitter.com/WHO/status/1425813893138456580\n",
            "--------------------------------------------------\n",
            "1206 The WHO Manifesto for a healthy recovery from #COVID19 lists 6 steps to create a\n",
            " \n",
            "💟 healthier\n",
            "⚖️ fairer\n",
            "🌳 greener\n",
            " \n",
            "world 🌍🌏🌎 while investing to maintain &amp; resuscitate the economy.\n",
            "👉https://t.co/ZtwVpPbJkc\n",
            "\n",
            "https://t.co/PBuejrsIZE https://twitter.com/WHO/status/1428348284989542402\n",
            "--------------------------------------------------\n",
            "199 People with post #COVID19 condition can experience lingering symptoms for months after recovery.\n",
            "The symptoms may begin right after being sick with COVID-19 or later, and may come and go https://t.co/WoiLcwsgJX https://t.co/JrABQL2EFx https://twitter.com/WHO/status/1446101365558808577\n",
            "--------------------------------------------------\n",
            "99 If someone you know has #depression, here is how you can help:\n",
            "💙 Encourage regular eating, sleeping and exercise\n",
            "💙 Encourage them to focus on the positive, rather than the negative\n",
            "💙 Be patient - recovery can take time\n",
            "\n",
            "#WorldMentalHealthDay #LetsTalk https://t.co/u92OcTVT94 https://twitter.com/WHO/status/1447098609447669761\n",
            "--------------------------------------------------\n"
          ]
        }
      ]
    },
    {
      "cell_type": "code",
      "metadata": {
        "colab": {
          "base_uri": "https://localhost:8080/"
        },
        "id": "RzEy5DSYWR0y",
        "outputId": "e2b51777-2066-4572-cd0b-02f9ca8ba2ee"
      },
      "source": [
        "perform_query(query=\"climate\", method=\"3\")"
      ],
      "execution_count": 145,
      "outputs": [
        {
          "output_type": "stream",
          "name": "stdout",
          "text": [
            "Using Word2Vec ranking...\n",
            "Language: english\n",
            "\n",
            "======================\n",
            " Results ordered by relevance for the searched query:\n",
            "\n",
            "2331 \"2⃣WHO has helped SIDS to mobilize funds for #ClimateChange adaptation, resilient health systems, food security, &amp; emergency preparedness &amp; response.\n",
            "[...]\n",
            "WHO offers our support to SIDS in better utilizing financing platforms, such as the Green Climate Fund\"-@DrTedros https://twitter.com/WHO/status/1409429916785983489\n",
            "--------------------------------------------------\n",
            "597 \"I urge all countries to put these [Air Quality] guidelines to use, to save lives, support healthy communities, and help address the climate crisis. These guidelines come at an important time, ahead of the COP26 #ClimateChange Conference in November\"-@DrTedros #AirPollution https://twitter.com/WHO/status/1440669759188529154\n",
            "--------------------------------------------------\n",
            "28 WHO's 10 calls for #ClimateAction❗️\n",
            "\n",
            "1⃣ Commit to a healthy recovery\n",
            "2⃣ Place health at the ❤️ of the climate talks\n",
            "3⃣ Harness the health benefits of climate action\n",
            "4⃣ Build health resilience to climate risks\n",
            "5⃣ Create greener &amp; healthier energy systems\n",
            "\n",
            "👉https://t.co/WXMdMgPSWv https://t.co/COMZeBQGXZ https://twitter.com/WHO/status/1447608850899742723\n",
            "--------------------------------------------------\n",
            "588 #AirPollution &amp; #ClimateChange are the biggest environmental threats to health. Achieving these 🆕 guidelines levels helps protect our health &amp; mitigates climate change.\n",
            " \n",
            "👉 https://t.co/7NnUI54JzT https://t.co/1JC6sW9jrx https://twitter.com/WHO/status/1440694568437968901\n",
            "--------------------------------------------------\n",
            "1436 Health systems are the main line of defense against health threats, including from #ClimateChange. But less than 2% of multilateral climate finance goes to health projects. https://t.co/5zFC2cTxm3 https://twitter.com/WHO/status/1424780340883820544\n",
            "--------------------------------------------------\n",
            "1211 It's #WorldHumanitarianDay\n",
            " \n",
            "The climate emergency is a humanitarian crisis.\n",
            "We must maximise the health benefits of tackling the #ClimateCrisis while avoiding its worst health impacts, and promote climate-resilient health systems everywhere.\n",
            "\n",
            "👉 https://t.co/cM6yAJX0fE https://t.co/heviFQaWSJ https://twitter.com/WHO/status/1428298318254415874\n",
            "--------------------------------------------------\n",
            "1232 @DrTedros @ACTAccelerator @g20org \"Whether it’s pandemic response, new disease outbreaks of Marburg or Ebola, civil unrest, an earthquake in Haiti, or responding to the effects of the climate crisis; WHO will always be there working to save lives, strengthen science, find solutions and build solidarity\"-@DrTedros https://twitter.com/WHO/status/1427992783080591363\n",
            "--------------------------------------------------\n",
            "1233 @DrTedros @ACTAccelerator @g20org \"From identifying the #COVID19 origins to sharing vaccines fairly, to building resilient societies that are prepared for climatic shocks and future disease outbreaks. This is our great calling and I urge leaders to come together and match it\"-@DrTedros https://t.co/9TP8wfgm7J https://twitter.com/WHO/status/1427992646715330566\n",
            "--------------------------------------------------\n",
            "1431 We need to take #ClimateAction now before it gets worse. To be a climate hero, you can\n",
            "✅ urge governments to take immediate action\n",
            "✅ use energy wisely\n",
            "✅ reduce, reuse, recycle (3Rs)\n",
            "✅ walk, cycle or take public transit more\n",
            "✅ join your local movements\n",
            "https://t.co/IjE5x3aNA8 https://twitter.com/WHO/status/1424803176172171269\n",
            "--------------------------------------------------\n",
            "2212 \"Climate crisis, the severe impact of the pandemic on lives and livelihoods, vaccine inequity and the large burden of noncommunicable diseases were discussed and concrete outcomes developed on how together we can tackle them.\"-@DrTedros https://twitter.com/WHO/status/1410940877191659522\n",
            "--------------------------------------------------\n",
            "1438 Systems 🔁 to produce, package &amp; distribute food generate a third of greenhouse gas emissions.\n",
            " \n",
            "The world needs sustainable production to mitigate climate impacts &amp; support more nutritious diets.\n",
            " \n",
            "#ClimateChange\n",
            "\n",
            "👉https://t.co/R8VPtUbZ1q https://t.co/pisIybdB3P https://twitter.com/WHO/status/1424768651484409856\n",
            "--------------------------------------------------\n",
            "1216 It's #WorldHumanitarianDay\n",
            " \n",
            "The health argument for climate action is clear. The same unsustainable choices that destroy our planet are affecting our health. Safeguarding human health from #ClimateChange impacts 🌪️☀️🌊🔥  is more urgent than ever.\n",
            "\n",
            "#TheHumanRace https://t.co/3EpeK20gIN https://twitter.com/WHO/status/1428249080820637704\n",
            "--------------------------------------------------\n",
            "2209 \"On an almost day-to-day basis we are now seeing the impact of the climate crisis. \n",
            "Record breaking scorching heatwaves, catastrophic storms and changing weather patterns are impacting food systems, disease dispersion and societies at large. \"-@DrTedros https://twitter.com/WHO/status/1410943481988722688\n",
            "--------------------------------------------------\n",
            "1256 @DrTedros \"The humanitarian system is being pushed to its absolute limit - and beyond - by the climate crisis, natural disasters, conflict and the #COVID19 pandemic\"-@DrTedros #WorldHumanitarianDay https://twitter.com/WHO/status/1427988612717633539\n",
            "--------------------------------------------------\n"
          ]
        }
      ]
    }
  ]
}